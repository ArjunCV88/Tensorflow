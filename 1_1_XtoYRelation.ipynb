{
  "nbformat": 4,
  "nbformat_minor": 0,
  "metadata": {
    "colab": {
      "name": "1.1 XtoYRelation.ipynb",
      "provenance": [],
      "authorship_tag": "ABX9TyNZZzmN+n+PfyEBsANVl48R"
    },
    "kernelspec": {
      "name": "python3",
      "display_name": "Python 3"
    }
  },
  "cells": [
    {
      "cell_type": "code",
      "metadata": {
        "id": "FV-b73VlczRe",
        "colab_type": "code",
        "colab": {}
      },
      "source": [
        "import tensorflow as tf\n",
        "import numpy as np"
      ],
      "execution_count": 0,
      "outputs": []
    },
    {
      "cell_type": "code",
      "metadata": {
        "id": "Lx5vfComdWOw",
        "colab_type": "code",
        "colab": {
          "base_uri": "https://localhost:8080/",
          "height": 1000
        },
        "outputId": "c98a8815-cf23-4e65-e2b7-b94090d6e505"
      },
      "source": [
        "model = tf.keras.models.Sequential([tf.keras.layers.Dense(units=1, input_shape=[1])])\n",
        "model.compile(optimizer='sgd',\n",
        "              loss=tf.keras.losses.mean_squared_error)\n",
        "\n",
        "xs = np.array([-1.0,0.0,1.0,2.0,3.0,4.0], dtype=float)\n",
        "ys = np.array([-3.0,-1.0,1.0,3.0,5.0,7.0], dtype=float)\n",
        "\n",
        "model.fit(xs, ys, epochs=50)\n",
        "\n",
        "print(model.predict([20.0]))"
      ],
      "execution_count": 45,
      "outputs": [
        {
          "output_type": "stream",
          "text": [
            "Epoch 1/50\n",
            "1/1 [==============================] - 0s 2ms/step - loss: 24.4287\n",
            "Epoch 2/50\n",
            "1/1 [==============================] - 0s 1ms/step - loss: 19.5070\n",
            "Epoch 3/50\n",
            "1/1 [==============================] - 0s 1ms/step - loss: 15.6289\n",
            "Epoch 4/50\n",
            "1/1 [==============================] - 0s 1ms/step - loss: 12.5721\n",
            "Epoch 5/50\n",
            "1/1 [==============================] - 0s 1ms/step - loss: 10.1614\n",
            "Epoch 6/50\n",
            "1/1 [==============================] - 0s 1ms/step - loss: 8.2592\n",
            "Epoch 7/50\n",
            "1/1 [==============================] - 0s 1ms/step - loss: 6.7573\n",
            "Epoch 8/50\n",
            "1/1 [==============================] - 0s 1ms/step - loss: 5.5703\n",
            "Epoch 9/50\n",
            "1/1 [==============================] - 0s 2ms/step - loss: 4.6312\n",
            "Epoch 10/50\n",
            "1/1 [==============================] - 0s 2ms/step - loss: 3.8873\n",
            "Epoch 11/50\n",
            "1/1 [==============================] - 0s 1ms/step - loss: 3.2970\n",
            "Epoch 12/50\n",
            "1/1 [==============================] - 0s 2ms/step - loss: 2.8276\n",
            "Epoch 13/50\n",
            "1/1 [==============================] - 0s 2ms/step - loss: 2.4536\n",
            "Epoch 14/50\n",
            "1/1 [==============================] - 0s 2ms/step - loss: 2.1546\n",
            "Epoch 15/50\n",
            "1/1 [==============================] - 0s 2ms/step - loss: 1.9148\n",
            "Epoch 16/50\n",
            "1/1 [==============================] - 0s 1ms/step - loss: 1.7216\n",
            "Epoch 17/50\n",
            "1/1 [==============================] - 0s 2ms/step - loss: 1.5652\n",
            "Epoch 18/50\n",
            "1/1 [==============================] - 0s 2ms/step - loss: 1.4378\n",
            "Epoch 19/50\n",
            "1/1 [==============================] - 0s 1ms/step - loss: 1.3333\n",
            "Epoch 20/50\n",
            "1/1 [==============================] - 0s 2ms/step - loss: 1.2470\n",
            "Epoch 21/50\n",
            "1/1 [==============================] - 0s 1ms/step - loss: 1.1750\n",
            "Epoch 22/50\n",
            "1/1 [==============================] - 0s 2ms/step - loss: 1.1144\n",
            "Epoch 23/50\n",
            "1/1 [==============================] - 0s 1ms/step - loss: 1.0628\n",
            "Epoch 24/50\n",
            "1/1 [==============================] - 0s 2ms/step - loss: 1.0184\n",
            "Epoch 25/50\n",
            "1/1 [==============================] - 0s 1ms/step - loss: 0.9797\n",
            "Epoch 26/50\n",
            "1/1 [==============================] - 0s 1ms/step - loss: 0.9456\n",
            "Epoch 27/50\n",
            "1/1 [==============================] - 0s 1ms/step - loss: 0.9151\n",
            "Epoch 28/50\n",
            "1/1 [==============================] - 0s 1ms/step - loss: 0.8877\n",
            "Epoch 29/50\n",
            "1/1 [==============================] - 0s 1ms/step - loss: 0.8627\n",
            "Epoch 30/50\n",
            "1/1 [==============================] - 0s 1ms/step - loss: 0.8396\n",
            "Epoch 31/50\n",
            "1/1 [==============================] - 0s 1ms/step - loss: 0.8181\n",
            "Epoch 32/50\n",
            "1/1 [==============================] - 0s 2ms/step - loss: 0.7980\n",
            "Epoch 33/50\n",
            "1/1 [==============================] - 0s 1ms/step - loss: 0.7790\n",
            "Epoch 34/50\n",
            "1/1 [==============================] - 0s 1ms/step - loss: 0.7609\n",
            "Epoch 35/50\n",
            "1/1 [==============================] - 0s 2ms/step - loss: 0.7437\n",
            "Epoch 36/50\n",
            "1/1 [==============================] - 0s 2ms/step - loss: 0.7272\n",
            "Epoch 37/50\n",
            "1/1 [==============================] - 0s 2ms/step - loss: 0.7112\n",
            "Epoch 38/50\n",
            "1/1 [==============================] - 0s 2ms/step - loss: 0.6958\n",
            "Epoch 39/50\n",
            "1/1 [==============================] - 0s 2ms/step - loss: 0.6809\n",
            "Epoch 40/50\n",
            "1/1 [==============================] - 0s 3ms/step - loss: 0.6664\n",
            "Epoch 41/50\n",
            "1/1 [==============================] - 0s 3ms/step - loss: 0.6524\n",
            "Epoch 42/50\n",
            "1/1 [==============================] - 0s 2ms/step - loss: 0.6387\n",
            "Epoch 43/50\n",
            "1/1 [==============================] - 0s 3ms/step - loss: 0.6253\n",
            "Epoch 44/50\n",
            "1/1 [==============================] - 0s 2ms/step - loss: 0.6123\n",
            "Epoch 45/50\n",
            "1/1 [==============================] - 0s 2ms/step - loss: 0.5996\n",
            "Epoch 46/50\n",
            "1/1 [==============================] - 0s 3ms/step - loss: 0.5871\n",
            "Epoch 47/50\n",
            "1/1 [==============================] - 0s 3ms/step - loss: 0.5750\n",
            "Epoch 48/50\n",
            "1/1 [==============================] - 0s 3ms/step - loss: 0.5631\n",
            "Epoch 49/50\n",
            "1/1 [==============================] - 0s 2ms/step - loss: 0.5515\n",
            "Epoch 50/50\n",
            "1/1 [==============================] - 0s 2ms/step - loss: 0.5401\n",
            "[[33.652103]]\n"
          ],
          "name": "stdout"
        }
      ]
    },
    {
      "cell_type": "code",
      "metadata": {
        "id": "PzQeEPOkeeKZ",
        "colab_type": "code",
        "colab": {}
      },
      "source": [
        ""
      ],
      "execution_count": 0,
      "outputs": []
    }
  ]
}